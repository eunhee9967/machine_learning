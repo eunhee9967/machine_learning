{
 "cells": [
  {
   "cell_type": "markdown",
   "id": "4a07c300",
   "metadata": {},
   "source": [
    "**딕셔너리 : {key, value}**\n",
    "- 딕셔너리 관련 함수들\n",
    " : a.keys(),a.values(),a.items(),a.clear()\n",
    "   a.get() /key에 대응되는 value 돌려주기"
   ]
  },
  {
   "cell_type": "code",
   "execution_count": 4,
   "id": "f106e361",
   "metadata": {},
   "outputs": [
    {
     "name": "stdout",
     "output_type": "stream",
     "text": [
      "10\n",
      "99\n"
     ]
    }
   ],
   "source": [
    "grade = {'pey':10, 'jullet' : 99}\n",
    "print(grade['pey'])\n",
    "print(grade['jullet'])"
   ]
  },
  {
   "cell_type": "code",
   "execution_count": 8,
   "id": "05a4e344",
   "metadata": {},
   "outputs": [
    {
     "data": {
      "text/plain": [
       "['pey', 'jullet']"
      ]
     },
     "execution_count": 8,
     "metadata": {},
     "output_type": "execute_result"
    }
   ],
   "source": [
    "list(grade.keys())"
   ]
  },
  {
   "cell_type": "code",
   "execution_count": 10,
   "id": "2898efaa",
   "metadata": {},
   "outputs": [
    {
     "data": {
      "text/plain": [
       "{}"
      ]
     },
     "execution_count": 10,
     "metadata": {},
     "output_type": "execute_result"
    }
   ],
   "source": [
    "grade.clear()\n",
    "grade"
   ]
  },
  {
   "cell_type": "code",
   "execution_count": 14,
   "id": "68fc85f1",
   "metadata": {},
   "outputs": [
    {
     "name": "stdout",
     "output_type": "stream",
     "text": [
      "pey\n",
      "0119993323\n"
     ]
    }
   ],
   "source": [
    "a = {'name':'pey', 'phone':'0119993323', 'birth': '1118'}\n",
    "print(a.get('name'))\n",
    "print(a.get('phone'))"
   ]
  },
  {
   "cell_type": "code",
   "execution_count": 15,
   "id": "52882861",
   "metadata": {},
   "outputs": [
    {
     "data": {
      "text/plain": [
       "'bar'"
      ]
     },
     "execution_count": 15,
     "metadata": {},
     "output_type": "execute_result"
    }
   ],
   "source": [
    "#get 함수에 default값 지정\n",
    "#foo가 없으면 디폴트값(bar) 출력\n",
    "a.get('foo','bar')"
   ]
  },
  {
   "cell_type": "code",
   "execution_count": null,
   "id": "82809e58",
   "metadata": {},
   "outputs": [],
   "source": []
  }
 ],
 "metadata": {
  "kernelspec": {
   "display_name": "Python 3",
   "language": "python",
   "name": "python3"
  },
  "language_info": {
   "codemirror_mode": {
    "name": "ipython",
    "version": 3
   },
   "file_extension": ".py",
   "mimetype": "text/x-python",
   "name": "python",
   "nbconvert_exporter": "python",
   "pygments_lexer": "ipython3",
   "version": "3.8.8"
  }
 },
 "nbformat": 4,
 "nbformat_minor": 5
}
